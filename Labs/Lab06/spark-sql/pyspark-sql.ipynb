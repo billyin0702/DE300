{
 "cells": [
  {
   "cell_type": "code",
   "execution_count": 1,
   "id": "ca03a649-3dcf-472c-a771-49ccdf33dab4",
   "metadata": {},
   "outputs": [],
   "source": [
    "from pyspark.sql import SparkSession\n",
    "from pyspark.sql.types import StructType, StructField, IntegerType, StringType, FloatType\n",
    "from pyspark.sql.dataframe import DataFrame\n",
    "from pyspark.sql.functions import col, when, isnan, isnull, count, avg, trim\n",
    "import os"
   ]
  },
  {
   "cell_type": "code",
   "execution_count": 2,
   "id": "f71c5482-1d34-4189-87e0-844e238e1f6b",
   "metadata": {},
   "outputs": [],
   "source": [
    "DATA_FOLDER = \"data\"\n",
    "# source https://www.statista.com/statistics/242030/marital-status-of-the-us-population-by-sex/\n",
    "# the first value is male and the second is for female\n",
    "MARITAL_STATUS_BY_GENDER = [\n",
    "    [\"Never-married\", 47.35, 41.81],\n",
    "    [\"Married-AF-spouse\", 67.54, 68.33],\n",
    "    [\"Widowed\", 3.58, 11.61],\n",
    "    [\"Divorced\", 10.82, 15.09]\n",
    "]\n",
    "MARITAL_STATUS_BY_GENDER_COLUMNS = [\"marital_status_statistics\", \"male\", \"female\"]"
   ]
  },
  {
   "cell_type": "code",
   "execution_count": 3,
   "id": "f1a99991-868e-4b28-bb09-5b447a2d39be",
   "metadata": {},
   "outputs": [],
   "source": [
    "def read_data(spark: SparkSession) -> DataFrame:\n",
    "    \"\"\"\n",
    "    read data based on the given schema; this is much faster than spark determining the schema\n",
    "    \"\"\"\n",
    "    \n",
    "    # Define the schema for the dataset\n",
    "    schema = StructType([\n",
    "        StructField(\"age\", IntegerType(), True),\n",
    "        StructField(\"workclass\", StringType(), True),\n",
    "        StructField(\"fnlwgt\", FloatType(), True),\n",
    "        StructField(\"education\", StringType(), True),\n",
    "        StructField(\"education_num\", FloatType(), True),\n",
    "        StructField(\"marital_status\", StringType(), True),\n",
    "        StructField(\"occupation\", StringType(), True),\n",
    "        StructField(\"relationship\", StringType(), True),\n",
    "        StructField(\"race\", StringType(), True),\n",
    "        StructField(\"sex\", StringType(), True),\n",
    "        StructField(\"capital_gain\", FloatType(), True),\n",
    "        StructField(\"capital_loss\", FloatType(), True),\n",
    "        StructField(\"hours_per_week\", FloatType(), True),\n",
    "        StructField(\"native_country\", StringType(), True),\n",
    "        StructField(\"income\", StringType(), True)\n",
    "    ])\n",
    "\n",
    "    # Read the dataset\n",
    "    data = spark.read \\\n",
    "        .schema(schema) \\\n",
    "        .option(\"header\", \"false\") \\\n",
    "        .option(\"inferSchema\", \"false\") \\\n",
    "        .csv(os.path.join(DATA_FOLDER,\"*.csv\")) \n",
    "\n",
    "    data = data.repartition(8)\n",
    "\n",
    "    float_columns = [f.name for f in data.schema.fields if isinstance(f.dataType, FloatType)]\n",
    "    for v in float_columns:\n",
    "        data = data.withColumn(v, data[v].cast(IntegerType()))\n",
    "\n",
    "    # Get the names of all StringType columns\n",
    "    string_columns = [f.name for f in data.schema.fields if isinstance(f.dataType, StringType)]\n",
    "\n",
    "    # Remove leading and trailing spaces in all string columns\n",
    "    for column in string_columns:\n",
    "        data = data.withColumn(column, trim(data[column]))\n",
    "\n",
    "    # Show the first 5 rows of the dataset\n",
    "    data.show(5)\n",
    "\n",
    "    return data\n"
   ]
  },
  {
   "cell_type": "code",
   "execution_count": 4,
   "id": "2db108d9-43b4-454e-b733-8cfe77b1adea",
   "metadata": {},
   "outputs": [],
   "source": [
    "\n",
    "def missing_values(data: DataFrame) -> DataFrame:\n",
    "    \"\"\"\n",
    "    count the number of samples with missing values for each row\n",
    "    remove such samples\n",
    "    \"\"\"\n",
    "\n",
    "    missing_values = data.select([count(when(isnan(c) | isnull(c), c)).alias(c) for c in data.columns])\n",
    "\n",
    "    # Show the missing values count per column\n",
    "    missing_values.show()\n",
    "\n",
    "    # Get the number of samples in the DataFrame\n",
    "    num_samples = data.count()\n",
    "\n",
    "    # Print the number of samples\n",
    "    print(\"Number of samples:\", num_samples)  \n",
    "\n",
    "    data = data.dropna()      \n",
    "    \n",
    "    return data\n",
    "\n"
   ]
  },
  {
   "cell_type": "code",
   "execution_count": 5,
   "id": "46e79575-66a3-40dc-8729-c141de74946e",
   "metadata": {},
   "outputs": [],
   "source": [
    "def feature_engineering(data: DataFrame) -> DataFrame:\n",
    "    \"\"\"\n",
    "    calculate the product of each pair of integer features\n",
    "    \"\"\"\n",
    "\n",
    "    # Create columns consisting of all products of columns of type IntegerType\n",
    "    integer_columns = [f.name for f in data.schema.fields if isinstance(f.dataType, IntegerType)]\n",
    "    for i, col1 in enumerate(integer_columns):\n",
    "        for col2 in integer_columns[i:]:\n",
    "            product_col_name = f\"{col1}_x_{col2}\"\n",
    "            data = data.withColumn(product_col_name, col(col1) * col(col2))\n",
    "\n",
    "    data.show(5)\n",
    "\n",
    "    return data\n",
    "\n",
    "def bias_marital_status(data: DataFrame):\n",
    "    \"\"\"\n",
    "    is there bias in capital gain by marital status\n",
    "    \"\"\"\n",
    "\n",
    "    # Calculate the average capital_gain by marital_status\n",
    "    average_capital_gain = data.groupBy(\"marital_status\").agg(avg(\"capital_gain\").alias(\"average_capital_gain\"))\n",
    "\n",
    "    # Show the average capital_gain by marital_status\n",
    "    average_capital_gain.show()\n",
    "\n",
    "    # Filter data based on marital_status = Divorced\n",
    "    divorced_data = data.filter(data.marital_status == \"Divorced\")\n",
    "\n",
    "    # Show the first 5 rows of the filtered DataFrame\n",
    "    divorced_data.show(5)\n",
    "\n",
    "def join_with_US_gender(spark: SparkSession, data: DataFrame):\n",
    "    \"\"\"\n",
    "    join with respect to the marital_status\n",
    "    \"\"\"\n",
    "\n",
    "    # create a data frame from new data\n",
    "    columns = [\"dept_name\",\"dept_id\"]\n",
    "    us_df = spark.createDataFrame(MARITAL_STATUS_BY_GENDER, MARITAL_STATUS_BY_GENDER_COLUMNS)\n",
    "\n",
    "    return data.join(us_df, data.marital_status == us_df.marital_status_statistics, 'outer')\n",
    "\n",
    "def main():\n",
    "    # Create a Spark session\n",
    "    spark = SparkSession.builder \\\n",
    "        .appName(\"Read Adult Dataset\") \\\n",
    "        .getOrCreate()\n",
    "\n",
    "    data = read_data(spark)\n",
    "    # perform basic EDA - count missing values\n",
    "    data = missing_values(data)\n",
    "    data = feature_engineering(data)\n",
    "    bias_marital_status(data)\n",
    "    data = join_with_US_gender(spark, data)\n",
    "\n",
    "    \n",
    "    \n",
    "    data.show(5)\n",
    "    data.write.format('csv').option('header', 'true').mode('overwrite').save('saved.csv')\n",
    "    #spark.stop()\n",
    "    #return data\n"
   ]
  },
  {
   "cell_type": "code",
   "execution_count": 6,
   "id": "f5914805-6415-4866-a4ee-17280c6c94cd",
   "metadata": {},
   "outputs": [],
   "source": [
    "def bias_marital_status(data: DataFrame):\n",
    "    \"\"\"\n",
    "    is there bias in capital gain by marital status\n",
    "    \"\"\"\n",
    "\n",
    "    # Calculate the average capital_gain by marital_status\n",
    "    average_capital_gain = data.groupBy(\"marital_status\").agg(avg(\"capital_gain\").alias(\"average_capital_gain\"))\n",
    "\n",
    "    # Show the average capital_gain by marital_status\n",
    "    average_capital_gain.show()\n",
    "\n",
    "    # Filter data based on marital_status = Divorced\n",
    "    divorced_data = data.filter(data.marital_status == \"Divorced\")\n",
    "\n",
    "    # Show the first 5 rows of the filtered DataFrame\n",
    "    divorced_data.show(5)\n",
    "\n"
   ]
  },
  {
   "cell_type": "code",
   "execution_count": 7,
   "id": "40de6a60-dd21-44f9-a003-a2eab84f7952",
   "metadata": {},
   "outputs": [],
   "source": [
    "def join_with_US_gender(spark: SparkSession, data: DataFrame):\n",
    "    \"\"\"\n",
    "    join with respect to the marital_status\n",
    "    \"\"\"\n",
    "\n",
    "    # create a data frame from new data\n",
    "    columns = [\"dept_name\",\"dept_id\"]\n",
    "    us_df = spark.createDataFrame(MARITAL_STATUS_BY_GENDER, MARITAL_STATUS_BY_GENDER_COLUMNS)\n",
    "\n",
    "    return data.join(us_df, data.marital_status == us_df.marital_status_statistics, 'outer')"
   ]
  },
  {
   "cell_type": "code",
   "execution_count": null,
   "id": "77c31b41",
   "metadata": {},
   "outputs": [],
   "source": [
    "def select_age_rows(data: DataFrame):\n",
    "    \"\"\"\n",
    "    select rows with 30 <= age <= 50\n",
    "    \"\"\"\n",
    "\n",
    "    # Select rows with age between 30 and 50\n",
    "    data = data.filter((data.age >= 30) & (data.age <= 50))\n",
    "\n",
    "    # Turn frpm pyspark to pandas dataframe\n",
    "    data_pd = data.toPandas()\n",
    "    \n",
    "\n",
    "    # Describe the data\n",
    "    print(\"Describing the data...\")\n",
    "    print(data_pd.describe())"
   ]
  },
  {
   "cell_type": "code",
   "execution_count": 8,
   "id": "efe19e6a-0a5e-4c4f-9585-fe7f39e3dd0c",
   "metadata": {},
   "outputs": [
    {
     "name": "stderr",
     "output_type": "stream",
     "text": [
      "The operation couldn’t be completed. Unable to locate a Java Runtime.\n",
      "Please visit http://www.java.com for information on installing Java.\n",
      "\n",
      "/Users/zihanyin/Documents/01-College/02-Northwestern/01-Courses/04-Senior/03-Spring/02-DE300/DE300/.venv/lib/python3.9/site-packages/pyspark/bin/spark-class: line 97: CMD: bad array subscript\n",
      "head: illegal line count -- -1\n"
     ]
    },
    {
     "ename": "PySparkRuntimeError",
     "evalue": "[JAVA_GATEWAY_EXITED] Java gateway process exited before sending its port number.",
     "output_type": "error",
     "traceback": [
      "\u001b[0;31m---------------------------------------------------------------------------\u001b[0m",
      "\u001b[0;31mPySparkRuntimeError\u001b[0m                       Traceback (most recent call last)",
      "Cell \u001b[0;32mIn[8], line 1\u001b[0m\n\u001b[0;32m----> 1\u001b[0m spark \u001b[38;5;241m=\u001b[39m \u001b[43mSparkSession\u001b[49m\u001b[38;5;241;43m.\u001b[39;49m\u001b[43mbuilder\u001b[49m\u001b[43m \u001b[49m\u001b[43m\\\u001b[49m\n\u001b[1;32m      2\u001b[0m \u001b[43m        \u001b[49m\u001b[38;5;241;43m.\u001b[39;49m\u001b[43mappName\u001b[49m\u001b[43m(\u001b[49m\u001b[38;5;124;43m\"\u001b[39;49m\u001b[38;5;124;43mRead Adult Dataset\u001b[39;49m\u001b[38;5;124;43m\"\u001b[39;49m\u001b[43m)\u001b[49m\u001b[43m \u001b[49m\u001b[43m\\\u001b[49m\n\u001b[1;32m      3\u001b[0m \u001b[43m        \u001b[49m\u001b[38;5;241;43m.\u001b[39;49m\u001b[43mgetOrCreate\u001b[49m\u001b[43m(\u001b[49m\u001b[43m)\u001b[49m\n\u001b[1;32m      5\u001b[0m data \u001b[38;5;241m=\u001b[39m read_data(spark)\n",
      "File \u001b[0;32m~/Documents/01-College/02-Northwestern/01-Courses/04-Senior/03-Spring/02-DE300/DE300/.venv/lib/python3.9/site-packages/pyspark/sql/session.py:497\u001b[0m, in \u001b[0;36mSparkSession.Builder.getOrCreate\u001b[0;34m(self)\u001b[0m\n\u001b[1;32m    495\u001b[0m     sparkConf\u001b[38;5;241m.\u001b[39mset(key, value)\n\u001b[1;32m    496\u001b[0m \u001b[38;5;66;03m# This SparkContext may be an existing one.\u001b[39;00m\n\u001b[0;32m--> 497\u001b[0m sc \u001b[38;5;241m=\u001b[39m \u001b[43mSparkContext\u001b[49m\u001b[38;5;241;43m.\u001b[39;49m\u001b[43mgetOrCreate\u001b[49m\u001b[43m(\u001b[49m\u001b[43msparkConf\u001b[49m\u001b[43m)\u001b[49m\n\u001b[1;32m    498\u001b[0m \u001b[38;5;66;03m# Do not update `SparkConf` for existing `SparkContext`, as it's shared\u001b[39;00m\n\u001b[1;32m    499\u001b[0m \u001b[38;5;66;03m# by all sessions.\u001b[39;00m\n\u001b[1;32m    500\u001b[0m session \u001b[38;5;241m=\u001b[39m SparkSession(sc, options\u001b[38;5;241m=\u001b[39m\u001b[38;5;28mself\u001b[39m\u001b[38;5;241m.\u001b[39m_options)\n",
      "File \u001b[0;32m~/Documents/01-College/02-Northwestern/01-Courses/04-Senior/03-Spring/02-DE300/DE300/.venv/lib/python3.9/site-packages/pyspark/context.py:515\u001b[0m, in \u001b[0;36mSparkContext.getOrCreate\u001b[0;34m(cls, conf)\u001b[0m\n\u001b[1;32m    513\u001b[0m \u001b[38;5;28;01mwith\u001b[39;00m SparkContext\u001b[38;5;241m.\u001b[39m_lock:\n\u001b[1;32m    514\u001b[0m     \u001b[38;5;28;01mif\u001b[39;00m SparkContext\u001b[38;5;241m.\u001b[39m_active_spark_context \u001b[38;5;129;01mis\u001b[39;00m \u001b[38;5;28;01mNone\u001b[39;00m:\n\u001b[0;32m--> 515\u001b[0m         \u001b[43mSparkContext\u001b[49m\u001b[43m(\u001b[49m\u001b[43mconf\u001b[49m\u001b[38;5;241;43m=\u001b[39;49m\u001b[43mconf\u001b[49m\u001b[43m \u001b[49m\u001b[38;5;129;43;01mor\u001b[39;49;00m\u001b[43m \u001b[49m\u001b[43mSparkConf\u001b[49m\u001b[43m(\u001b[49m\u001b[43m)\u001b[49m\u001b[43m)\u001b[49m\n\u001b[1;32m    516\u001b[0m     \u001b[38;5;28;01massert\u001b[39;00m SparkContext\u001b[38;5;241m.\u001b[39m_active_spark_context \u001b[38;5;129;01mis\u001b[39;00m \u001b[38;5;129;01mnot\u001b[39;00m \u001b[38;5;28;01mNone\u001b[39;00m\n\u001b[1;32m    517\u001b[0m     \u001b[38;5;28;01mreturn\u001b[39;00m SparkContext\u001b[38;5;241m.\u001b[39m_active_spark_context\n",
      "File \u001b[0;32m~/Documents/01-College/02-Northwestern/01-Courses/04-Senior/03-Spring/02-DE300/DE300/.venv/lib/python3.9/site-packages/pyspark/context.py:201\u001b[0m, in \u001b[0;36mSparkContext.__init__\u001b[0;34m(self, master, appName, sparkHome, pyFiles, environment, batchSize, serializer, conf, gateway, jsc, profiler_cls, udf_profiler_cls, memory_profiler_cls)\u001b[0m\n\u001b[1;32m    195\u001b[0m \u001b[38;5;28;01mif\u001b[39;00m gateway \u001b[38;5;129;01mis\u001b[39;00m \u001b[38;5;129;01mnot\u001b[39;00m \u001b[38;5;28;01mNone\u001b[39;00m \u001b[38;5;129;01mand\u001b[39;00m gateway\u001b[38;5;241m.\u001b[39mgateway_parameters\u001b[38;5;241m.\u001b[39mauth_token \u001b[38;5;129;01mis\u001b[39;00m \u001b[38;5;28;01mNone\u001b[39;00m:\n\u001b[1;32m    196\u001b[0m     \u001b[38;5;28;01mraise\u001b[39;00m \u001b[38;5;167;01mValueError\u001b[39;00m(\n\u001b[1;32m    197\u001b[0m         \u001b[38;5;124m\"\u001b[39m\u001b[38;5;124mYou are trying to pass an insecure Py4j gateway to Spark. This\u001b[39m\u001b[38;5;124m\"\u001b[39m\n\u001b[1;32m    198\u001b[0m         \u001b[38;5;124m\"\u001b[39m\u001b[38;5;124m is not allowed as it is a security risk.\u001b[39m\u001b[38;5;124m\"\u001b[39m\n\u001b[1;32m    199\u001b[0m     )\n\u001b[0;32m--> 201\u001b[0m \u001b[43mSparkContext\u001b[49m\u001b[38;5;241;43m.\u001b[39;49m\u001b[43m_ensure_initialized\u001b[49m\u001b[43m(\u001b[49m\u001b[38;5;28;43mself\u001b[39;49m\u001b[43m,\u001b[49m\u001b[43m \u001b[49m\u001b[43mgateway\u001b[49m\u001b[38;5;241;43m=\u001b[39;49m\u001b[43mgateway\u001b[49m\u001b[43m,\u001b[49m\u001b[43m \u001b[49m\u001b[43mconf\u001b[49m\u001b[38;5;241;43m=\u001b[39;49m\u001b[43mconf\u001b[49m\u001b[43m)\u001b[49m\n\u001b[1;32m    202\u001b[0m \u001b[38;5;28;01mtry\u001b[39;00m:\n\u001b[1;32m    203\u001b[0m     \u001b[38;5;28mself\u001b[39m\u001b[38;5;241m.\u001b[39m_do_init(\n\u001b[1;32m    204\u001b[0m         master,\n\u001b[1;32m    205\u001b[0m         appName,\n\u001b[0;32m   (...)\u001b[0m\n\u001b[1;32m    215\u001b[0m         memory_profiler_cls,\n\u001b[1;32m    216\u001b[0m     )\n",
      "File \u001b[0;32m~/Documents/01-College/02-Northwestern/01-Courses/04-Senior/03-Spring/02-DE300/DE300/.venv/lib/python3.9/site-packages/pyspark/context.py:436\u001b[0m, in \u001b[0;36mSparkContext._ensure_initialized\u001b[0;34m(cls, instance, gateway, conf)\u001b[0m\n\u001b[1;32m    434\u001b[0m \u001b[38;5;28;01mwith\u001b[39;00m SparkContext\u001b[38;5;241m.\u001b[39m_lock:\n\u001b[1;32m    435\u001b[0m     \u001b[38;5;28;01mif\u001b[39;00m \u001b[38;5;129;01mnot\u001b[39;00m SparkContext\u001b[38;5;241m.\u001b[39m_gateway:\n\u001b[0;32m--> 436\u001b[0m         SparkContext\u001b[38;5;241m.\u001b[39m_gateway \u001b[38;5;241m=\u001b[39m gateway \u001b[38;5;129;01mor\u001b[39;00m \u001b[43mlaunch_gateway\u001b[49m\u001b[43m(\u001b[49m\u001b[43mconf\u001b[49m\u001b[43m)\u001b[49m\n\u001b[1;32m    437\u001b[0m         SparkContext\u001b[38;5;241m.\u001b[39m_jvm \u001b[38;5;241m=\u001b[39m SparkContext\u001b[38;5;241m.\u001b[39m_gateway\u001b[38;5;241m.\u001b[39mjvm\n\u001b[1;32m    439\u001b[0m     \u001b[38;5;28;01mif\u001b[39;00m instance:\n",
      "File \u001b[0;32m~/Documents/01-College/02-Northwestern/01-Courses/04-Senior/03-Spring/02-DE300/DE300/.venv/lib/python3.9/site-packages/pyspark/java_gateway.py:107\u001b[0m, in \u001b[0;36mlaunch_gateway\u001b[0;34m(conf, popen_kwargs)\u001b[0m\n\u001b[1;32m    104\u001b[0m     time\u001b[38;5;241m.\u001b[39msleep(\u001b[38;5;241m0.1\u001b[39m)\n\u001b[1;32m    106\u001b[0m \u001b[38;5;28;01mif\u001b[39;00m \u001b[38;5;129;01mnot\u001b[39;00m os\u001b[38;5;241m.\u001b[39mpath\u001b[38;5;241m.\u001b[39misfile(conn_info_file):\n\u001b[0;32m--> 107\u001b[0m     \u001b[38;5;28;01mraise\u001b[39;00m PySparkRuntimeError(\n\u001b[1;32m    108\u001b[0m         error_class\u001b[38;5;241m=\u001b[39m\u001b[38;5;124m\"\u001b[39m\u001b[38;5;124mJAVA_GATEWAY_EXITED\u001b[39m\u001b[38;5;124m\"\u001b[39m,\n\u001b[1;32m    109\u001b[0m         message_parameters\u001b[38;5;241m=\u001b[39m{},\n\u001b[1;32m    110\u001b[0m     )\n\u001b[1;32m    112\u001b[0m \u001b[38;5;28;01mwith\u001b[39;00m \u001b[38;5;28mopen\u001b[39m(conn_info_file, \u001b[38;5;124m\"\u001b[39m\u001b[38;5;124mrb\u001b[39m\u001b[38;5;124m\"\u001b[39m) \u001b[38;5;28;01mas\u001b[39;00m info:\n\u001b[1;32m    113\u001b[0m     gateway_port \u001b[38;5;241m=\u001b[39m read_int(info)\n",
      "\u001b[0;31mPySparkRuntimeError\u001b[0m: [JAVA_GATEWAY_EXITED] Java gateway process exited before sending its port number."
     ]
    }
   ],
   "source": [
    "spark = SparkSession.builder \\\n",
    "        .appName(\"Read Adult Dataset\") \\\n",
    "        .getOrCreate()\n",
    "\n",
    "data = read_data(spark)"
   ]
  },
  {
   "cell_type": "code",
   "execution_count": null,
   "id": "7ead504b-072e-4181-a03d-35a8d60115b8",
   "metadata": {},
   "outputs": [],
   "source": [
    "data = read_data(spark)"
   ]
  },
  {
   "cell_type": "code",
   "execution_count": null,
   "id": "6de0d96b-0870-49f1-b9dd-560d6dc69be0",
   "metadata": {},
   "outputs": [],
   "source": [
    "data = missing_values(data)"
   ]
  },
  {
   "cell_type": "code",
   "execution_count": null,
   "id": "d5aa850b-8d1f-44f7-8a0c-35feb1f48513",
   "metadata": {},
   "outputs": [],
   "source": [
    "data = feature_engineering(data)"
   ]
  },
  {
   "cell_type": "code",
   "execution_count": null,
   "id": "97b84214-97c0-4c9e-9155-118f594cc78c",
   "metadata": {},
   "outputs": [],
   "source": [
    "bias_marital_status(data)"
   ]
  },
  {
   "cell_type": "code",
   "execution_count": null,
   "id": "87f12a7d-6627-45c2-9ba6-dfb6a68ad956",
   "metadata": {},
   "outputs": [],
   "source": [
    "data = join_with_US_gender(spark, data)"
   ]
  },
  {
   "cell_type": "code",
   "execution_count": null,
   "id": "46e7a54d-9966-4a1b-9cca-b3026acd8029",
   "metadata": {},
   "outputs": [],
   "source": []
  },
  {
   "cell_type": "code",
   "execution_count": null,
   "id": "70bf7a36-a0c5-4a55-b89d-50aa712f6ece",
   "metadata": {},
   "outputs": [],
   "source": [
    "def main():\n",
    "    # Create a Spark session\n",
    "    spark = SparkSession.builder \\\n",
    "        .appName(\"Read Adult Dataset\") \\\n",
    "        .getOrCreate() \n",
    "\n",
    "    data = read_data(spark)\n",
    "    # perform basic EDA - count missing values\n",
    "    data = missing_values(data)\n",
    "    data = feature_engineering(data)\n",
    "    bias_marital_status(data)\n",
    "    data = join_with_US_gender(spark, data)\n",
    "\n",
    "    \n",
    "    \n",
    "    data.show(5)\n",
    "    spark.stop()\n"
   ]
  }
 ],
 "metadata": {
  "kernelspec": {
   "display_name": "Python 3 (ipykernel)",
   "language": "python",
   "name": "python3"
  },
  "language_info": {
   "codemirror_mode": {
    "name": "ipython",
    "version": 3
   },
   "file_extension": ".py",
   "mimetype": "text/x-python",
   "name": "python",
   "nbconvert_exporter": "python",
   "pygments_lexer": "ipython3",
   "version": "3.9.6"
  }
 },
 "nbformat": 4,
 "nbformat_minor": 5
}
